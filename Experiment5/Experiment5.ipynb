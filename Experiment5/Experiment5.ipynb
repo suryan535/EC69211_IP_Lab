{
  "cells": [
    {
      "cell_type": "code",
      "execution_count": null,
      "metadata": {
        "id": "DjySL39kIDBX"
      },
      "outputs": [],
      "source": [
        "import math\n",
        "import cv2\n",
        "import numpy as np\n",
        "import matplotlib.pyplot as plt"
      ]
    },
    {
      "cell_type": "code",
      "execution_count": null,
      "metadata": {
        "id": "LY22yKbPFvy_"
      },
      "outputs": [],
      "source": [
        "def fft(x, invert):\n",
        "    N = len(x)\n",
        "    # base case\n",
        "    if N == 1:\n",
        "        return x\n",
        "    \n",
        "    # split in even and odd parts and recursively compute their fft\n",
        "    X_even = fft(x[::2], invert)\n",
        "    X_odd = fft(x[1::2], invert)\n",
        "\n",
        "    # define dft coefficient\n",
        "    ang = 2 * math.pi / N * (-1 if invert else 1)\n",
        "    w = 1 + 0j\n",
        "    wn = math.cos(ang) + 1j*math.sin(ang)\n",
        "    X = [(0 + 0j) for _ in range(N)]\n",
        "\n",
        "    # merge the even and odd parts to get solution for current subproblem\n",
        "    for i in range(0,int(N/2)):\n",
        "        X[i] = X_even[i] + w * X_odd[i]\n",
        "        X[i + int(N/2)] = X_even[i] - w * X_odd[i]\n",
        "        if invert:\n",
        "            X[i] /= 2\n",
        "            X[i + int(N/2)] /= 2\n",
        "        w *= wn;\n",
        "    return X\n"
      ]
    },
    {
      "cell_type": "code",
      "execution_count": null,
      "metadata": {
        "id": "_VTbcCs8q3N5"
      },
      "outputs": [],
      "source": [
        "def fftshift_image(img):\n",
        "    rows,cols = len(img),len(img[0])\n",
        "    new_img = [[0 for _ in range(cols)] for __ in range(rows)]\n",
        "    for i in range(rows):\n",
        "        for j in range(int(cols/2)):\n",
        "            new_img[i][j] = img[i][j+int(cols/2)]\n",
        "            new_img[i][j+int(cols/2)] = img[i][j]\n",
        "\n",
        "    for j in range(cols):\n",
        "        for i in range(int(rows/2)):\n",
        "            tmp = new_img[i][j]\n",
        "            new_img[i][j] = new_img[i+int(rows/2)][j]\n",
        "            new_img[i+int(rows/2)][j] = tmp\n",
        "    return new_img"
      ]
    },
    {
      "cell_type": "code",
      "source": [
        "def pad_image(img):\n",
        "    rows,cols = len(img),len(img[0])\n",
        "    new_rows,new_cols = 1,1\n",
        "\n",
        "    # get nearest higher power of 2 for row and col size\n",
        "    while new_rows<rows:\n",
        "        new_rows*=2\n",
        "    while new_cols<cols:\n",
        "        new_cols*=2\n",
        "\n",
        "    new_img = [[0 for _ in range(new_cols)] for __ in range(new_rows)]\n",
        "\n",
        "    for i in range(rows):\n",
        "        for j in range(cols):\n",
        "            new_img[i][j] = img[i][j]\n",
        "    return new_img\n",
        "\n",
        "def unpad(img,orig_rows,orig_cols):\n",
        "    # crop the image to its original dimension\n",
        "    new_img = [[img[i][j] for j in range(orig_cols)] for i in range(orig_rows)]\n",
        "    return new_img"
      ],
      "metadata": {
        "id": "Duel4sJOEpSb"
      },
      "execution_count": null,
      "outputs": []
    },
    {
      "cell_type": "code",
      "execution_count": null,
      "metadata": {
        "id": "hMlNrlE3LoA9"
      },
      "outputs": [],
      "source": [
        "def fft_image(img,invert):\n",
        "    orig_rows,orig_cols = len(img),len(img[0])\n",
        "    rows,cols = len(img),len(img[0])\n",
        "    IMG = [[img[i][j] for j in range(cols)] for i in range(rows)]\n",
        "   \n",
        "    if invert:\n",
        "        IMG = fftshift_image(IMG)\n",
        "   \n",
        "   # apply fft along columns\n",
        "    for col in range(cols):\n",
        "        cur = [IMG[row][col] for row in range(rows)]\n",
        "        cur = fft(cur,invert)\n",
        "        for row in range(rows):\n",
        "            IMG[row][col] = cur[row]\n",
        "\n",
        "    # apply fft along rows\n",
        "    for row in range(rows):\n",
        "        cur = [IMG[row][col] for col in range(cols)]\n",
        "        cur = fft(cur,invert)\n",
        "        for col in range(cols):\n",
        "            IMG[row][col]=cur[col]\n",
        "            \n",
        "    if not invert:\n",
        "        IMG = fftshift_image(IMG)\n",
        "    return IMG"
      ]
    },
    {
      "cell_type": "code",
      "execution_count": null,
      "metadata": {
        "id": "AzGUaffDmedg"
      },
      "outputs": [],
      "source": [
        "def ideal_filter(f0,type,rows,cols):\n",
        "    filter = [[0 for _ in range(cols)] for __ in range(rows)]\n",
        "    for i in range(rows):\n",
        "        for j in range(cols):\n",
        "            d = math.sqrt(pow(i-int(rows/2),2)+pow(j-int(cols/2),2))\n",
        "            if type=='low':\n",
        "                if d<f0:\n",
        "                    filter[i][j] = 1\n",
        "            elif type=='high':\n",
        "                if d>f0:\n",
        "                    filter[i][j] = 1\n",
        "    return filter"
      ]
    },
    {
      "cell_type": "code",
      "execution_count": null,
      "metadata": {
        "id": "AOV81Slpywy1"
      },
      "outputs": [],
      "source": [
        "def butterworth_filter(f0,type,rows,cols,order):\n",
        "    filter = [[0 for _ in range(cols)] for __ in range(rows)]\n",
        "    for i in range(rows):\n",
        "        for j in range(cols):\n",
        "            d = math.sqrt(pow(i-int(rows/2),2)+pow(j-int(cols/2),2))+1e-30\n",
        "            if type=='low':\n",
        "                filter[i][j] = 1/(1+(math.sqrt(2)-1)*pow(d/f0,2*order))\n",
        "            elif type=='high':\n",
        "                filter[i][j] = 1/(1+(math.sqrt(2)-1)*pow(f0/d,2*order)) \n",
        "    return filter"
      ]
    },
    {
      "cell_type": "code",
      "execution_count": null,
      "metadata": {
        "id": "M8pheLolI9eL"
      },
      "outputs": [],
      "source": [
        "def gaussian_filter(f0,type,rows,cols):\n",
        "    filter = [[0 for _ in range(cols)] for __ in range(rows)]\n",
        "    sigma = f0/(math.sqrt(math.log(2)))\n",
        "    for i in range(rows):\n",
        "        for j in range(cols):\n",
        "            d = math.sqrt(pow(i-int(rows/2),2)+pow(j-int(cols/2),2))+1e-30\n",
        "            if type=='low':\n",
        "                filter[i][j] = math.exp(-1/(2*sigma*sigma)*d*d)\n",
        "            elif type=='high':\n",
        "                filter[i][j] = math.exp(-pow(f0,4)/(2*sigma*sigma*d*d)) \n",
        "    return filter"
      ]
    },
    {
      "cell_type": "code",
      "execution_count": null,
      "metadata": {
        "id": "q-K2fv712bVT"
      },
      "outputs": [],
      "source": [
        "def apply_filter(img,filter):\n",
        "    rows, cols = len(img), len(img[0])\n",
        "    new_img = [[img[i][j] for j in range(cols)] for i in range(rows)]\n",
        "\n",
        "    # multiply elementwise to apply filter in freq domain\n",
        "    for i in range(rows):\n",
        "        for j in range(cols):\n",
        "            new_img[i][j]*=filter[i][j]\n",
        "    return new_img"
      ]
    },
    {
      "cell_type": "code",
      "source": [
        "def read_image(file):\n",
        "    img = cv2.imread(\"input/\"+file)\n",
        "\n",
        "    # convert returned numpy array to list\n",
        "    \n",
        "    img = img[:,:,0]\n",
        "    img = [[complex(img[i][j]) for j in range(len(img[0]))] for i in range(len(img))]\n",
        "    orig_rows,orig_cols = len(img),len(img[0])\n",
        "    \n",
        "    # pad image to make its dimension power of 2\n",
        "    img = pad_image(img)\n",
        "    return img,orig_rows,orig_cols"
      ],
      "metadata": {
        "id": "nyYbbopB-HuE"
      },
      "execution_count": null,
      "outputs": []
    },
    {
      "cell_type": "code",
      "source": [
        "def write_image(file, img, orig_rows, orig_cols):\n",
        "    # remove added padding from image\n",
        "    img = unpad(img,orig_rows,orig_cols)\n",
        "\n",
        "    # scale pixels so as to lie from 0 to 255\n",
        "    max_val = 0 \n",
        "    for row in img:\n",
        "        for pixel in row:\n",
        "            max_val = max(max_val,pixel)\n",
        "    img = [[img[i][j]/max_val*255 for j in range(orig_cols)] for i in range(orig_rows)]\n",
        "    \n",
        "    # convert list to numpy array for opencv to write\n",
        "    img = np.array(img).astype(np.uint8)\n",
        "    cv2.imwrite(\"output/\"+file, img)"
      ],
      "metadata": {
        "id": "jughBr44A-z_"
      },
      "execution_count": null,
      "outputs": []
    },
    {
      "cell_type": "code",
      "execution_count": null,
      "metadata": {
        "id": "ssaanhX1LJYz"
      },
      "outputs": [],
      "source": [
        "def q1():\n",
        "    # take all the inputs\n",
        "    file = input(\"Enter file name: \")\n",
        "    fltr = input(\"Input filter (ideal, gaussian, butterworth): \")\n",
        "    typ = input(\"Enter type (high/low): \")\n",
        "    f0 = int(input(\"Enter cutoff frequency: \"))\n",
        "    \n",
        "    \n",
        "    # read image and get fft\n",
        "    img,orig_rows,orig_cols = read_image(file)\n",
        "    rows,cols = len(img), len(img[0])\n",
        "    IMG = fft_image(img,False)\n",
        "\n",
        "    # get the filter matrix\n",
        "    if fltr=='ideal':\n",
        "        filter = ideal_filter(f0,typ,rows,cols)\n",
        "    elif fltr=='gaussian':\n",
        "        filter = gaussian_filter(f0,typ,rows, cols)\n",
        "    elif fltr=='butterworth':\n",
        "        order = int(input(\"Enter order: \"))\n",
        "        filter = butterworth_filter(f0,typ,rows,cols,order)\n",
        "    else:\n",
        "        print(\"invalid input\")\n",
        "        return\n",
        "    \n",
        "    # plot log magnitude spectrum of original image\n",
        "    log_mag_spectrum = [[20*math.log10(1+abs(IMG[i][j])) for j in range(cols)] for i in range(rows)]\n",
        "    write_image(\"original_spectrum.jpg\", log_mag_spectrum,orig_rows,orig_cols)\n",
        "\n",
        "    # plot filter's frequency response\n",
        "    filter_freq_response = [[255*filter[i][j] for j in range(cols)] for i in range(rows)]\n",
        "    write_image(\"freq_response.jpg\", filter_freq_response,orig_rows,orig_cols)\n",
        "\n",
        "    # plot filtered spectrum\n",
        "    IMG = apply_filter(IMG,filter)\n",
        "    log_mag_spectrum = [[20*math.log10(1+abs(IMG[i][j])) for j in range(cols)] for i in range(rows)]\n",
        "    write_image(\"filtered_spectrum.jpg\", log_mag_spectrum,orig_rows,orig_cols)\n",
        "\n",
        "    # plot filtered image after taking abs of each pixel\n",
        "    img_filtered = fft_image(IMG,True)\n",
        "    img_filtered = [[abs(img_filtered[i][j]) for j in range(cols)] for i in range(rows)]\n",
        "    write_image(\"filtered_image.jpg\", img_filtered,orig_rows,orig_cols)"
      ]
    },
    {
      "cell_type": "code",
      "source": [
        "def q2(file1=\"einstein.png\", file2=\"marilyn.png\"):\n",
        "    # read both images\n",
        "    img1,orig_rows,orig_cols = read_image(file1)\n",
        "    img2,_,__ = read_image(file2)\n",
        "\n",
        "    # get fft of first image and pass through highpass filter\n",
        "    IMG1 = fft_image(img1,False)\n",
        "    filter = np.array(gaussian_filter(25,'high',len(img1),len(img1[0]))).astype(np.complex64)\n",
        "    IMG1 = apply_filter(IMG1,filter)\n",
        "\n",
        "    # get fft of second image and pass through lowpass filter\n",
        "    IMG2 = fft_image(img2,False)\n",
        "    filter = np.array(gaussian_filter(20,'low',len(img2),len(img2[0]))).astype(np.complex64)\n",
        "    IMG2 = apply_filter(IMG2,filter)\n",
        "\n",
        "    # merge both images by elementwise addition\n",
        "    IMG = [[0 for _ in range(len(IMG1[0]))] for __ in range(len(IMG1))]\n",
        "    max_val = 0\n",
        "    for i in range(len(IMG)):\n",
        "        for j in range(len(IMG[0])):\n",
        "            IMG[i][j] = IMG1[i][j]+IMG2[i][j]\n",
        "    \n",
        "    # take inverse fft and get output hybrid image\n",
        "    img = fft_image(IMG,True)\n",
        "    img = [[abs(img[i][j]) for j in range(len(img[0]))] for i in range(len(img))]\n",
        "    write_image(\"hybrid.jpg\", img,orig_rows,orig_cols)"
      ],
      "metadata": {
        "id": "w2sBPzZR0KFX"
      },
      "execution_count": null,
      "outputs": []
    },
    {
      "cell_type": "code",
      "source": [
        "def q3():\n",
        "    # get the input image\n",
        "    file = input(\"Enter file name: \")\n",
        "    img,orig_rows,orig_cols = read_image(file)\n",
        "    rows,cols = len(img),len(img[0])\n",
        "    \n",
        "    # set the neighborhood dimension and threshold ratio\n",
        "    r,th = 2,10\n",
        "\n",
        "    # get fft of image\n",
        "    IMG = fft_image(img, False)\n",
        "    log_mag_spectrum = [[20*math.log10(1+abs(IMG[i][j])) for j in range(cols)] for i in range(rows)]\n",
        "    write_image(\"original_spectrum.jpg\", log_mag_spectrum,orig_rows,orig_cols)\n",
        "    \n",
        "    # apply frequency domain median filter on spectrum of image\n",
        "    MED = [[0 for _ in range(cols)] for i in range(rows)]\n",
        "    for i in range(rows):\n",
        "        for j in range(cols):\n",
        "            vals = []\n",
        "            for k in range(-r,r+1):\n",
        "                for l in range(-r,r+1):\n",
        "                    if (i+k>=0) & (i+k<rows) & (j+l>=0) & (j+l<cols):\n",
        "                        vals.append(IMG[i+k][j+l])\n",
        "            vals.sort(key=abs)\n",
        "            vals[int(len(vals)/2)]\n",
        "            MED[i][j] = vals[int(len(vals)/2)]\n",
        "    \n",
        "    # update spectrum if ratio with median exceeds the threshold\n",
        "    for i in range(rows):\n",
        "        for j in range(cols):\n",
        "            if abs(i-int(rows/2))<=r and abs(j-int(cols/2))<=r:\n",
        "                continue\n",
        "            if abs(IMG[i][j])/abs(MED[i][j])>th:\n",
        "                IMG[i][j] = MED[i][j]\n",
        "    \n",
        "    # plot manipulated spectrum\n",
        "    log_mag_spectrum = [[20*math.log10(1+abs(IMG[i][j])) for j in range(cols)] for i in range(rows)]\n",
        "    write_image(\"filtered_spectrum.jpg\", log_mag_spectrum,orig_rows,orig_cols)\n",
        "\n",
        "    # get the resultant image and plot\n",
        "    denoise_img = fft_image(IMG,True)\n",
        "    denoise_img = [[abs(denoise_img[i][j]) for j in range(len(denoise_img[0]))] for i in range(len(denoise_img))]\n",
        "    write_image(\"denoise.jpg\",denoise_img,orig_rows,orig_cols)"
      ],
      "metadata": {
        "id": "z_UF-buDvafA"
      },
      "execution_count": null,
      "outputs": []
    },
    {
      "cell_type": "code",
      "source": [
        "q = int(input(\"Enter which part to test (1,2,3): \"))\n",
        "if q==1:\n",
        "    q1()\n",
        "elif q==2:\n",
        "    q2()\n",
        "elif q==3:\n",
        "    q3()"
      ],
      "metadata": {
        "colab": {
          "base_uri": "https://localhost:8080/"
        },
        "id": "IGE6WRwdz4BP",
        "outputId": "70fdae7e-aa5a-41ab-f4a7-7cf80fef4859"
      },
      "execution_count": 53,
      "outputs": [
        {
          "name": "stdout",
          "output_type": "stream",
          "text": [
            "Enter which part to test (1,2,3): 1\n",
            "Enter file name: walkbridge.jpg\n",
            "Input filter (ideal, gaussian, butterworth): butterworth\n",
            "Enter type (high/low): high\n",
            "Enter cutoff frequency: 30\n",
            "Enter order: 2\n"
          ]
        }
      ]
    },
    {
      "cell_type": "code",
      "source": [],
      "metadata": {
        "id": "cjHa9f2vMr31"
      },
      "execution_count": 43,
      "outputs": []
    }
  ],
  "metadata": {
    "colab": {
      "collapsed_sections": [],
      "provenance": []
    },
    "kernelspec": {
      "display_name": "Python 3",
      "name": "python3"
    },
    "language_info": {
      "name": "python"
    }
  },
  "nbformat": 4,
  "nbformat_minor": 0
}